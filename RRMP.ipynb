{
 "cells": [
  {
   "cell_type": "code",
   "execution_count": 2,
   "id": "cd061c06-163d-4d51-a4c2-3809426c48c0",
   "metadata": {},
   "outputs": [
    {
     "data": {
      "text/plain": [
       "['RRMP_model.pkl']"
      ]
     },
     "execution_count": 2,
     "metadata": {},
     "output_type": "execute_result"
    }
   ],
   "source": [
    "#CREATE AND TRAIN RRMP MODEL     DAY AHEAD Predictions Trained on REAL - TIME\n",
    "import pandas as pd\n",
    "import numpy as np\n",
    "from sklearn.model_selection import train_test_split\n",
    "from sklearn.linear_model import Ridge\n",
    "from sklearn.preprocessing import StandardScaler\n",
    "import joblib\n",
    "\n",
    "# Load your prepared dataset\n",
    "df = pd.read_csv(\"61761_verified.csv\")\n",
    "\n",
    "# Filter data for Sundays in July for the years 2020 and 2021\n",
    "data = df[(df['Month'] == 7) & (df['Day_of_Week'] == 7) & (df['Year'].isin([2020, 2021]))]\n",
    "\n",
    "# RRMP Model Features\n",
    "features = ['Hour', 'Marginal Cost Losses', 'Marginal Cost Congestion']\n",
    "X = data[features].values\n",
    "y = data['LBMP'].values\n",
    "\n",
    "# Normalize the features\n",
    "scaler = StandardScaler()\n",
    "X = scaler.fit_transform(X)\n",
    "\n",
    "# Split the data into training and testing sets\n",
    "X_train, X_test, y_train, y_test = train_test_split(X, y, test_size=0.2, random_state=42)\n",
    "\n",
    "# Train the Ridge regression model\n",
    "ridge = Ridge(alpha=2.0)  # Regularization\n",
    "ridge.fit(X_train, y_train)\n",
    "\n",
    "# Save the scaler and model\n",
    "joblib.dump(scaler, 'RRMP_scaler.pkl')\n",
    "joblib.dump(ridge, 'RRMP_model.pkl')"
   ]
  },
  {
   "cell_type": "code",
   "execution_count": 7,
   "id": "dbe9cad1-4c1f-421d-bd4b-fefe3e5dc574",
   "metadata": {},
   "outputs": [
    {
     "name": "stdout",
     "output_type": "stream",
     "text": [
      "Predictions saved to 'RRMP_DayAhead_Predictions.csv'.\n"
     ]
    }
   ],
   "source": [
    "import joblib\n",
    "import pandas as pd\n",
    "\n",
    "# Load your saved Ridge regression model\n",
    "ridge_model = joblib.load('RRMP_model.pkl')\n",
    "\n",
    "# Load the scaler used during training\n",
    "scaler = joblib.load('RRMP_scaler.pkl')\n",
    "\n",
    "# Load the dataset with real-time values for prediction generation\n",
    "daf = pd.read_csv(\"61761_ISO_No_LBMP.csv\")\n",
    "july_sundays_2022 = daf[(daf['Year'] == 2022)]\n",
    "\n",
    "# Prepare the features\n",
    "features = ['Hour', 'Marginal Cost Losses', 'Marginal Cost Congestion']\n",
    "X = july_sundays_2022[features].values\n",
    "\n",
    "# Scale the features\n",
    "X_scaled = scaler.transform(X)\n",
    "\n",
    "# Make predictions using the loaded Ridge regression model\n",
    "predictions_2022 = ridge_model.predict(X_scaled)\n",
    "\n",
    "# Convert predictions to a DataFrame with the same index\n",
    "predictions_df = pd.DataFrame(predictions_2022, columns=['Predicted_LBMP'], index=july_sundays_2022.index)\n",
    "\n",
    "# Combine predictions with the original DataFrame\n",
    "results_df = july_sundays_2022.copy()\n",
    "results_df['Predicted_LBMP'] = predictions_df['Predicted_LBMP']\n",
    "\n",
    "# Save the DataFrame to a CSV file\n",
    "results_df.to_csv('RRMP_DayAhead_Predictions.csv', index=False)\n",
    "\n",
    "print(\"Predictions saved to 'RRMP_DayAhead_Predictions.csv'.\")\n"
   ]
  },
  {
   "cell_type": "code",
   "execution_count": null,
   "id": "c166e484-17d5-4a15-89a9-f3a3899f47de",
   "metadata": {},
   "outputs": [],
   "source": []
  }
 ],
 "metadata": {
  "kernelspec": {
   "display_name": "Python 3 (ipykernel)",
   "language": "python",
   "name": "python3"
  },
  "language_info": {
   "codemirror_mode": {
    "name": "ipython",
    "version": 3
   },
   "file_extension": ".py",
   "mimetype": "text/x-python",
   "name": "python",
   "nbconvert_exporter": "python",
   "pygments_lexer": "ipython3",
   "version": "3.11.7"
  }
 },
 "nbformat": 4,
 "nbformat_minor": 5
}
